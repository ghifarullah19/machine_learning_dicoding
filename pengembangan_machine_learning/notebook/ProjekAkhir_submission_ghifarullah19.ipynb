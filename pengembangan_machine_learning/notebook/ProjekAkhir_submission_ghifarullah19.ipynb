{
  "metadata": {
    "kernelspec": {
      "name": "python3",
      "display_name": "Python 3"
    },
    "language_info": {
      "name": "python",
      "version": "3.10.13",
      "mimetype": "text/x-python",
      "codemirror_mode": {
        "name": "ipython",
        "version": 3
      },
      "pygments_lexer": "ipython3",
      "nbconvert_exporter": "python",
      "file_extension": ".py"
    },
    "kaggle": {
      "accelerator": "nvidiaTeslaT4",
      "dataSources": [
        {
          "sourceId": 8508193,
          "sourceType": "datasetVersion",
          "datasetId": 5078659
        },
        {
          "sourceId": 8508662,
          "sourceType": "datasetVersion",
          "datasetId": 5078989
        },
        {
          "sourceId": 8557595,
          "sourceType": "datasetVersion",
          "datasetId": 5112001
        }
      ],
      "dockerImageVersionId": 30698,
      "isInternetEnabled": true,
      "language": "python",
      "sourceType": "notebook",
      "isGpuEnabled": true
    },
    "colab": {
      "provenance": [],
      "machine_shape": "hm",
      "gpuType": "T4"
    },
    "accelerator": "GPU"
  },
  "nbformat_minor": 0,
  "nbformat": 4,
  "cells": [
    {
      "cell_type": "code",
      "source": [
        "!pip install split-folders"
      ],
      "metadata": {
        "ExecuteTime": {
          "end_time": "2024-05-22T13:56:43.238087Z",
          "start_time": "2024-05-22T13:56:38.166931Z"
        },
        "execution": {
          "iopub.status.busy": "2024-06-02T03:02:12.494281Z",
          "iopub.execute_input": "2024-06-02T03:02:12.495102Z",
          "iopub.status.idle": "2024-06-02T03:02:24.915689Z",
          "shell.execute_reply.started": "2024-06-02T03:02:12.495065Z",
          "shell.execute_reply": "2024-06-02T03:02:24.914527Z"
        },
        "trusted": true,
        "colab": {
          "base_uri": "https://localhost:8080/"
        },
        "id": "MQ0ahbLQFM_F",
        "outputId": "80d397d3-13e2-4528-e7ce-d2ef11c20f5b"
      },
      "execution_count": 1,
      "outputs": [
        {
          "output_type": "stream",
          "name": "stdout",
          "text": [
            "Collecting split-folders\n",
            "  Downloading split_folders-0.5.1-py3-none-any.whl (8.4 kB)\n",
            "Installing collected packages: split-folders\n",
            "Successfully installed split-folders-0.5.1\n"
          ]
        }
      ]
    },
    {
      "cell_type": "code",
      "source": [
        "!pip install kaggle"
      ],
      "metadata": {
        "colab": {
          "base_uri": "https://localhost:8080/"
        },
        "id": "9MjrXsbFFjeS",
        "outputId": "38d2d0ab-b378-4d79-e53b-6fd645fc92da"
      },
      "execution_count": 2,
      "outputs": [
        {
          "output_type": "stream",
          "name": "stdout",
          "text": [
            "Requirement already satisfied: kaggle in /usr/local/lib/python3.10/dist-packages (1.6.14)\n",
            "Requirement already satisfied: six>=1.10 in /usr/local/lib/python3.10/dist-packages (from kaggle) (1.16.0)\n",
            "Requirement already satisfied: certifi>=2023.7.22 in /usr/local/lib/python3.10/dist-packages (from kaggle) (2024.2.2)\n",
            "Requirement already satisfied: python-dateutil in /usr/local/lib/python3.10/dist-packages (from kaggle) (2.8.2)\n",
            "Requirement already satisfied: requests in /usr/local/lib/python3.10/dist-packages (from kaggle) (2.31.0)\n",
            "Requirement already satisfied: tqdm in /usr/local/lib/python3.10/dist-packages (from kaggle) (4.66.4)\n",
            "Requirement already satisfied: python-slugify in /usr/local/lib/python3.10/dist-packages (from kaggle) (8.0.4)\n",
            "Requirement already satisfied: urllib3 in /usr/local/lib/python3.10/dist-packages (from kaggle) (2.0.7)\n",
            "Requirement already satisfied: bleach in /usr/local/lib/python3.10/dist-packages (from kaggle) (6.1.0)\n",
            "Requirement already satisfied: webencodings in /usr/local/lib/python3.10/dist-packages (from bleach->kaggle) (0.5.1)\n",
            "Requirement already satisfied: text-unidecode>=1.3 in /usr/local/lib/python3.10/dist-packages (from python-slugify->kaggle) (1.3)\n",
            "Requirement already satisfied: charset-normalizer<4,>=2 in /usr/local/lib/python3.10/dist-packages (from requests->kaggle) (3.3.2)\n",
            "Requirement already satisfied: idna<4,>=2.5 in /usr/local/lib/python3.10/dist-packages (from requests->kaggle) (3.7)\n"
          ]
        }
      ]
    },
    {
      "cell_type": "code",
      "source": [
        "from google.colab import files\n",
        "files.upload()"
      ],
      "metadata": {
        "colab": {
          "base_uri": "https://localhost:8080/",
          "height": 90
        },
        "id": "dHOYD-6fFmc1",
        "outputId": "4cf2e573-8546-40d3-c76c-42438cea935e"
      },
      "execution_count": 3,
      "outputs": [
        {
          "output_type": "display_data",
          "data": {
            "text/plain": [
              "<IPython.core.display.HTML object>"
            ],
            "text/html": [
              "\n",
              "     <input type=\"file\" id=\"files-05a9bb0a-9d55-433d-802e-ca1929502e2b\" name=\"files[]\" multiple disabled\n",
              "        style=\"border:none\" />\n",
              "     <output id=\"result-05a9bb0a-9d55-433d-802e-ca1929502e2b\">\n",
              "      Upload widget is only available when the cell has been executed in the\n",
              "      current browser session. Please rerun this cell to enable.\n",
              "      </output>\n",
              "      <script>// Copyright 2017 Google LLC\n",
              "//\n",
              "// Licensed under the Apache License, Version 2.0 (the \"License\");\n",
              "// you may not use this file except in compliance with the License.\n",
              "// You may obtain a copy of the License at\n",
              "//\n",
              "//      http://www.apache.org/licenses/LICENSE-2.0\n",
              "//\n",
              "// Unless required by applicable law or agreed to in writing, software\n",
              "// distributed under the License is distributed on an \"AS IS\" BASIS,\n",
              "// WITHOUT WARRANTIES OR CONDITIONS OF ANY KIND, either express or implied.\n",
              "// See the License for the specific language governing permissions and\n",
              "// limitations under the License.\n",
              "\n",
              "/**\n",
              " * @fileoverview Helpers for google.colab Python module.\n",
              " */\n",
              "(function(scope) {\n",
              "function span(text, styleAttributes = {}) {\n",
              "  const element = document.createElement('span');\n",
              "  element.textContent = text;\n",
              "  for (const key of Object.keys(styleAttributes)) {\n",
              "    element.style[key] = styleAttributes[key];\n",
              "  }\n",
              "  return element;\n",
              "}\n",
              "\n",
              "// Max number of bytes which will be uploaded at a time.\n",
              "const MAX_PAYLOAD_SIZE = 100 * 1024;\n",
              "\n",
              "function _uploadFiles(inputId, outputId) {\n",
              "  const steps = uploadFilesStep(inputId, outputId);\n",
              "  const outputElement = document.getElementById(outputId);\n",
              "  // Cache steps on the outputElement to make it available for the next call\n",
              "  // to uploadFilesContinue from Python.\n",
              "  outputElement.steps = steps;\n",
              "\n",
              "  return _uploadFilesContinue(outputId);\n",
              "}\n",
              "\n",
              "// This is roughly an async generator (not supported in the browser yet),\n",
              "// where there are multiple asynchronous steps and the Python side is going\n",
              "// to poll for completion of each step.\n",
              "// This uses a Promise to block the python side on completion of each step,\n",
              "// then passes the result of the previous step as the input to the next step.\n",
              "function _uploadFilesContinue(outputId) {\n",
              "  const outputElement = document.getElementById(outputId);\n",
              "  const steps = outputElement.steps;\n",
              "\n",
              "  const next = steps.next(outputElement.lastPromiseValue);\n",
              "  return Promise.resolve(next.value.promise).then((value) => {\n",
              "    // Cache the last promise value to make it available to the next\n",
              "    // step of the generator.\n",
              "    outputElement.lastPromiseValue = value;\n",
              "    return next.value.response;\n",
              "  });\n",
              "}\n",
              "\n",
              "/**\n",
              " * Generator function which is called between each async step of the upload\n",
              " * process.\n",
              " * @param {string} inputId Element ID of the input file picker element.\n",
              " * @param {string} outputId Element ID of the output display.\n",
              " * @return {!Iterable<!Object>} Iterable of next steps.\n",
              " */\n",
              "function* uploadFilesStep(inputId, outputId) {\n",
              "  const inputElement = document.getElementById(inputId);\n",
              "  inputElement.disabled = false;\n",
              "\n",
              "  const outputElement = document.getElementById(outputId);\n",
              "  outputElement.innerHTML = '';\n",
              "\n",
              "  const pickedPromise = new Promise((resolve) => {\n",
              "    inputElement.addEventListener('change', (e) => {\n",
              "      resolve(e.target.files);\n",
              "    });\n",
              "  });\n",
              "\n",
              "  const cancel = document.createElement('button');\n",
              "  inputElement.parentElement.appendChild(cancel);\n",
              "  cancel.textContent = 'Cancel upload';\n",
              "  const cancelPromise = new Promise((resolve) => {\n",
              "    cancel.onclick = () => {\n",
              "      resolve(null);\n",
              "    };\n",
              "  });\n",
              "\n",
              "  // Wait for the user to pick the files.\n",
              "  const files = yield {\n",
              "    promise: Promise.race([pickedPromise, cancelPromise]),\n",
              "    response: {\n",
              "      action: 'starting',\n",
              "    }\n",
              "  };\n",
              "\n",
              "  cancel.remove();\n",
              "\n",
              "  // Disable the input element since further picks are not allowed.\n",
              "  inputElement.disabled = true;\n",
              "\n",
              "  if (!files) {\n",
              "    return {\n",
              "      response: {\n",
              "        action: 'complete',\n",
              "      }\n",
              "    };\n",
              "  }\n",
              "\n",
              "  for (const file of files) {\n",
              "    const li = document.createElement('li');\n",
              "    li.append(span(file.name, {fontWeight: 'bold'}));\n",
              "    li.append(span(\n",
              "        `(${file.type || 'n/a'}) - ${file.size} bytes, ` +\n",
              "        `last modified: ${\n",
              "            file.lastModifiedDate ? file.lastModifiedDate.toLocaleDateString() :\n",
              "                                    'n/a'} - `));\n",
              "    const percent = span('0% done');\n",
              "    li.appendChild(percent);\n",
              "\n",
              "    outputElement.appendChild(li);\n",
              "\n",
              "    const fileDataPromise = new Promise((resolve) => {\n",
              "      const reader = new FileReader();\n",
              "      reader.onload = (e) => {\n",
              "        resolve(e.target.result);\n",
              "      };\n",
              "      reader.readAsArrayBuffer(file);\n",
              "    });\n",
              "    // Wait for the data to be ready.\n",
              "    let fileData = yield {\n",
              "      promise: fileDataPromise,\n",
              "      response: {\n",
              "        action: 'continue',\n",
              "      }\n",
              "    };\n",
              "\n",
              "    // Use a chunked sending to avoid message size limits. See b/62115660.\n",
              "    let position = 0;\n",
              "    do {\n",
              "      const length = Math.min(fileData.byteLength - position, MAX_PAYLOAD_SIZE);\n",
              "      const chunk = new Uint8Array(fileData, position, length);\n",
              "      position += length;\n",
              "\n",
              "      const base64 = btoa(String.fromCharCode.apply(null, chunk));\n",
              "      yield {\n",
              "        response: {\n",
              "          action: 'append',\n",
              "          file: file.name,\n",
              "          data: base64,\n",
              "        },\n",
              "      };\n",
              "\n",
              "      let percentDone = fileData.byteLength === 0 ?\n",
              "          100 :\n",
              "          Math.round((position / fileData.byteLength) * 100);\n",
              "      percent.textContent = `${percentDone}% done`;\n",
              "\n",
              "    } while (position < fileData.byteLength);\n",
              "  }\n",
              "\n",
              "  // All done.\n",
              "  yield {\n",
              "    response: {\n",
              "      action: 'complete',\n",
              "    }\n",
              "  };\n",
              "}\n",
              "\n",
              "scope.google = scope.google || {};\n",
              "scope.google.colab = scope.google.colab || {};\n",
              "scope.google.colab._files = {\n",
              "  _uploadFiles,\n",
              "  _uploadFilesContinue,\n",
              "};\n",
              "})(self);\n",
              "</script> "
            ]
          },
          "metadata": {}
        },
        {
          "output_type": "stream",
          "name": "stdout",
          "text": [
            "Saving kaggle.json to kaggle.json\n"
          ]
        },
        {
          "output_type": "execute_result",
          "data": {
            "text/plain": [
              "{'kaggle.json': b'{\"username\":\"ghifarullah19\",\"key\":\"3590d1acba3cb11884e3f09a427c346a\"}'}"
            ]
          },
          "metadata": {},
          "execution_count": 3
        }
      ]
    },
    {
      "cell_type": "code",
      "source": [
        "!mkdir -p ~/.kaggle\n",
        "!mv kaggle.json ~/.kaggle/\n",
        "!chmod 600 ~/.kaggle/kaggle.json"
      ],
      "metadata": {
        "id": "4bEPgjH9FnXQ"
      },
      "execution_count": 4,
      "outputs": []
    },
    {
      "cell_type": "code",
      "source": [
        "!kaggle datasets download -d lutfi213040014/raw-plant"
      ],
      "metadata": {
        "colab": {
          "base_uri": "https://localhost:8080/"
        },
        "id": "-nK1Ne4gFp5c",
        "outputId": "0e3ff44d-83b0-4758-bc21-5fde2f7770cd"
      },
      "execution_count": 5,
      "outputs": [
        {
          "output_type": "stream",
          "name": "stdout",
          "text": [
            "Dataset URL: https://www.kaggle.com/datasets/lutfi213040014/raw-plant\n",
            "License(s): unknown\n",
            "Downloading raw-plant.zip to /content\n",
            " 96% 403M/418M [00:03<00:00, 147MB/s]\n",
            "100% 418M/418M [00:03<00:00, 123MB/s]\n"
          ]
        }
      ]
    },
    {
      "cell_type": "code",
      "source": [
        "import zipfile\n",
        "import os\n",
        "\n",
        "with zipfile.ZipFile('raw-plant.zip', 'r') as zip_ref:\n",
        "    zip_ref.extractall('raw-plant')"
      ],
      "metadata": {
        "id": "wjr0PSKmF5So"
      },
      "execution_count": 6,
      "outputs": []
    },
    {
      "cell_type": "code",
      "source": [
        "import numpy as np\n",
        "import tensorflow as tf\n",
        "import zipfile, os\n",
        "from splitfolders import ratio\n",
        "from tensorflow.keras.optimizers import Adam\n",
        "from tensorflow.keras.preprocessing import image\n",
        "from tensorflow.keras.preprocessing.image import ImageDataGenerator\n",
        "import matplotlib.pyplot as plt\n",
        "import matplotlib.image as mpimg\n",
        "%matplotlib inline"
      ],
      "metadata": {
        "ExecuteTime": {
          "end_time": "2024-05-22T13:58:15.188457Z",
          "start_time": "2024-05-22T13:58:05.598575Z"
        },
        "execution": {
          "iopub.status.busy": "2024-06-02T03:02:53.233042Z",
          "iopub.execute_input": "2024-06-02T03:02:53.233422Z",
          "iopub.status.idle": "2024-06-02T03:02:56.915062Z",
          "shell.execute_reply.started": "2024-06-02T03:02:53.233389Z",
          "shell.execute_reply": "2024-06-02T03:02:56.914209Z"
        },
        "trusted": true,
        "id": "iatHOCUYFM_J"
      },
      "execution_count": 9,
      "outputs": []
    },
    {
      "cell_type": "code",
      "source": [
        "base_plant = \"/content/tmp/plant-cv-images\""
      ],
      "metadata": {
        "ExecuteTime": {
          "end_time": "2024-05-22T14:13:26.179650Z",
          "start_time": "2024-05-22T14:13:26.173648Z"
        },
        "execution": {
          "iopub.status.busy": "2024-06-02T03:02:59.078792Z",
          "iopub.execute_input": "2024-06-02T03:02:59.079869Z",
          "iopub.status.idle": "2024-06-02T03:02:59.083824Z",
          "shell.execute_reply.started": "2024-06-02T03:02:59.079837Z",
          "shell.execute_reply": "2024-06-02T03:02:59.082874Z"
        },
        "trusted": true,
        "id": "M6CJzDdUFM_L"
      },
      "execution_count": 10,
      "outputs": []
    },
    {
      "cell_type": "code",
      "source": [
        "ratio('/content/raw-plant/botanify-360', output=base_plant, seed=1337, ratio=(.8, .2))\n",
        "train_dir_plant = os.path.join(base_plant, 'train')\n",
        "val_dir_plant = os.path.join(base_plant, 'val')"
      ],
      "metadata": {
        "ExecuteTime": {
          "end_time": "2024-05-22T14:13:28.346860Z",
          "start_time": "2024-05-22T14:13:28.338108Z"
        },
        "execution": {
          "iopub.status.busy": "2024-06-02T03:03:02.778448Z",
          "iopub.execute_input": "2024-06-02T03:03:02.779252Z",
          "iopub.status.idle": "2024-06-02T03:03:02.783846Z",
          "shell.execute_reply.started": "2024-06-02T03:03:02.779216Z",
          "shell.execute_reply": "2024-06-02T03:03:02.782679Z"
        },
        "trusted": true,
        "colab": {
          "base_uri": "https://localhost:8080/"
        },
        "id": "Ykyvg_wGFM_L",
        "outputId": "a3fa84a4-c83f-4ef8-8243-4e575a6049c2"
      },
      "execution_count": 11,
      "outputs": [
        {
          "output_type": "stream",
          "name": "stderr",
          "text": [
            "Copying files: 10440 files [00:01, 6516.39 files/s]\n"
          ]
        }
      ]
    },
    {
      "cell_type": "code",
      "source": [
        "os.listdir(train_dir_plant)"
      ],
      "metadata": {
        "ExecuteTime": {
          "end_time": "2024-05-22T14:13:30.776570Z",
          "start_time": "2024-05-22T14:13:30.755092Z"
        },
        "execution": {
          "iopub.status.busy": "2024-06-02T03:03:11.704454Z",
          "iopub.execute_input": "2024-06-02T03:03:11.705331Z",
          "iopub.status.idle": "2024-06-02T03:03:11.713642Z",
          "shell.execute_reply.started": "2024-06-02T03:03:11.705298Z",
          "shell.execute_reply": "2024-06-02T03:03:11.712655Z"
        },
        "trusted": true,
        "colab": {
          "base_uri": "https://localhost:8080/"
        },
        "id": "FPOIbSiJFM_M",
        "outputId": "7ac4751e-878c-4637-ff12-4039dc84178d"
      },
      "execution_count": 12,
      "outputs": [
        {
          "output_type": "execute_result",
          "data": {
            "text/plain": [
              "['Lily Flower',\n",
              " 'Iris',\n",
              " 'Pansy',\n",
              " 'Orchid',\n",
              " 'Dandelion',\n",
              " 'Dieffenbacia',\n",
              " 'Ixora',\n",
              " 'Rose',\n",
              " 'Tuberose',\n",
              " 'Tulip',\n",
              " 'Peony',\n",
              " 'Gerbera',\n",
              " 'Azalea',\n",
              " 'Cosmos',\n",
              " 'Eustoma',\n",
              " 'Aster',\n",
              " 'Jasmine',\n",
              " 'Sunflower',\n",
              " 'Lavender',\n",
              " 'Aglaonema',\n",
              " 'Bergamot',\n",
              " 'Viola',\n",
              " 'Alyssum',\n",
              " 'Dahlia',\n",
              " 'Sage',\n",
              " 'Snapdragon',\n",
              " 'Euphorbia',\n",
              " 'Daisy',\n",
              " 'Polyanthus']"
            ]
          },
          "metadata": {},
          "execution_count": 12
        }
      ]
    },
    {
      "cell_type": "code",
      "source": [
        "os.listdir(val_dir_plant)"
      ],
      "metadata": {
        "ExecuteTime": {
          "end_time": "2024-05-22T14:13:33.840373Z",
          "start_time": "2024-05-22T14:13:33.816987Z"
        },
        "execution": {
          "iopub.status.busy": "2024-06-02T03:03:14.359443Z",
          "iopub.execute_input": "2024-06-02T03:03:14.360343Z",
          "iopub.status.idle": "2024-06-02T03:03:14.367181Z",
          "shell.execute_reply.started": "2024-06-02T03:03:14.360306Z",
          "shell.execute_reply": "2024-06-02T03:03:14.366252Z"
        },
        "trusted": true,
        "colab": {
          "base_uri": "https://localhost:8080/"
        },
        "id": "hi6k6ATaFM_M",
        "outputId": "9f4eb3e6-8b6f-4d63-bd34-3d02d8dfee5a"
      },
      "execution_count": 13,
      "outputs": [
        {
          "output_type": "execute_result",
          "data": {
            "text/plain": [
              "['Lily Flower',\n",
              " 'Iris',\n",
              " 'Pansy',\n",
              " 'Orchid',\n",
              " 'Dandelion',\n",
              " 'Dieffenbacia',\n",
              " 'Ixora',\n",
              " 'Rose',\n",
              " 'Tuberose',\n",
              " 'Tulip',\n",
              " 'Peony',\n",
              " 'Gerbera',\n",
              " 'Azalea',\n",
              " 'Cosmos',\n",
              " 'Eustoma',\n",
              " 'Aster',\n",
              " 'Jasmine',\n",
              " 'Sunflower',\n",
              " 'Lavender',\n",
              " 'Aglaonema',\n",
              " 'Bergamot',\n",
              " 'Viola',\n",
              " 'Alyssum',\n",
              " 'Dahlia',\n",
              " 'Sage',\n",
              " 'Snapdragon',\n",
              " 'Euphorbia',\n",
              " 'Daisy',\n",
              " 'Polyanthus']"
            ]
          },
          "metadata": {},
          "execution_count": 13
        }
      ]
    },
    {
      "cell_type": "code",
      "source": [
        "train_plant_datagen = ImageDataGenerator(\n",
        "  rescale=1./255,\n",
        "  rotation_range=20,\n",
        "  shear_range=0.2,\n",
        "  fill_mode='nearest'\n",
        ")\n",
        "\n",
        "test_plant_datagen = ImageDataGenerator(\n",
        "  rescale=1./255\n",
        ")"
      ],
      "metadata": {
        "ExecuteTime": {
          "end_time": "2024-05-22T14:01:15.677672Z",
          "start_time": "2024-05-22T14:01:15.671461Z"
        },
        "execution": {
          "iopub.status.busy": "2024-06-02T03:03:16.720312Z",
          "iopub.execute_input": "2024-06-02T03:03:16.720684Z",
          "iopub.status.idle": "2024-06-02T03:03:16.725690Z",
          "shell.execute_reply.started": "2024-06-02T03:03:16.720652Z",
          "shell.execute_reply": "2024-06-02T03:03:16.724741Z"
        },
        "trusted": true,
        "id": "FdHeLmD2FM_N"
      },
      "execution_count": 14,
      "outputs": []
    },
    {
      "cell_type": "code",
      "source": [
        "train_plant_generator = train_plant_datagen.flow_from_directory(\n",
        "  train_dir_plant,\n",
        "  target_size=(224, 224),\n",
        "  batch_size=32,\n",
        "  class_mode='sparse'\n",
        ")\n",
        "\n",
        "validation_plant_generator = test_plant_datagen.flow_from_directory(\n",
        "  val_dir_plant,\n",
        "  target_size=(224, 224),\n",
        "  batch_size=32,\n",
        "  class_mode='sparse'\n",
        ")"
      ],
      "metadata": {
        "ExecuteTime": {
          "end_time": "2024-05-22T14:13:40.761819Z",
          "start_time": "2024-05-22T14:13:39.865171Z"
        },
        "execution": {
          "iopub.status.busy": "2024-06-02T03:03:19.169442Z",
          "iopub.execute_input": "2024-06-02T03:03:19.169865Z",
          "iopub.status.idle": "2024-06-02T03:03:19.903532Z",
          "shell.execute_reply.started": "2024-06-02T03:03:19.169831Z",
          "shell.execute_reply": "2024-06-02T03:03:19.902741Z"
        },
        "trusted": true,
        "colab": {
          "base_uri": "https://localhost:8080/"
        },
        "id": "7-qXmkbrFM_N",
        "outputId": "f4bc9917-373b-4c63-d157-2cb01ca9b372"
      },
      "execution_count": 15,
      "outputs": [
        {
          "output_type": "stream",
          "name": "stdout",
          "text": [
            "Found 8352 images belonging to 29 classes.\n",
            "Found 2088 images belonging to 29 classes.\n"
          ]
        }
      ]
    },
    {
      "cell_type": "code",
      "source": [
        "model = tf.keras.models.Sequential([\n",
        "    tf.keras.layers.Conv2D(96, (11, 11), strides=(4, 4), padding='same', activation='relu', input_shape=(224, 224, 3)),\n",
        "    tf.keras.layers.MaxPooling2D(pool_size=(3, 3), strides=(2, 2)),\n",
        "    tf.keras.layers.Conv2D(256, (5, 5), padding='same', activation='relu'),\n",
        "    tf.keras.layers.MaxPooling2D(pool_size=(3, 3), strides=(2, 2)),\n",
        "    tf.keras.layers.Conv2D(384, (3, 3), padding='same', activation='relu'),\n",
        "    tf.keras.layers.Conv2D(384, (3, 3), padding='same', activation='relu'),\n",
        "    tf.keras.layers.Conv2D(256, (3, 3), padding='same', activation='relu'),\n",
        "    tf.keras.layers.MaxPooling2D(pool_size=(3, 3), strides=(2, 2)),\n",
        "    tf.keras.layers.Flatten(),\n",
        "    tf.keras.layers.Dense(4096, activation='relu'),\n",
        "    tf.keras.layers.Dropout(0.5),\n",
        "    tf.keras.layers.Dense(4096, activation='relu'),\n",
        "    tf.keras.layers.Dropout(0.5),\n",
        "    tf.keras.layers.Dense(29, activation='softmax')\n",
        "])"
      ],
      "metadata": {
        "execution": {
          "iopub.status.busy": "2024-06-02T03:25:05.804999Z",
          "iopub.execute_input": "2024-06-02T03:25:05.805381Z",
          "iopub.status.idle": "2024-06-02T03:25:05.897255Z",
          "shell.execute_reply.started": "2024-06-02T03:25:05.805349Z",
          "shell.execute_reply": "2024-06-02T03:25:05.896109Z"
        },
        "trusted": true,
        "id": "nz6OsqTHFM_O"
      },
      "execution_count": 16,
      "outputs": []
    },
    {
      "cell_type": "code",
      "source": [
        "model.compile(loss='sparse_categorical_crossentropy',\n",
        "              optimizer=Adam(0.0001),\n",
        "              metrics=['accuracy'])"
      ],
      "metadata": {
        "ExecuteTime": {
          "end_time": "2024-05-22T14:13:46.742664Z",
          "start_time": "2024-05-22T14:13:46.718657Z"
        },
        "execution": {
          "iopub.status.busy": "2024-06-02T03:25:08.784800Z",
          "iopub.execute_input": "2024-06-02T03:25:08.785180Z",
          "iopub.status.idle": "2024-06-02T03:25:08.795196Z",
          "shell.execute_reply.started": "2024-06-02T03:25:08.785149Z",
          "shell.execute_reply": "2024-06-02T03:25:08.794194Z"
        },
        "trusted": true,
        "id": "b9PqG1GuFM_P"
      },
      "execution_count": 17,
      "outputs": []
    },
    {
      "cell_type": "code",
      "source": [
        "model.summary()"
      ],
      "metadata": {
        "ExecuteTime": {
          "end_time": "2024-05-22T14:05:42.163733Z",
          "start_time": "2024-05-22T14:05:42.091210Z"
        },
        "execution": {
          "iopub.status.busy": "2024-06-02T03:25:11.406027Z",
          "iopub.execute_input": "2024-06-02T03:25:11.406803Z",
          "iopub.status.idle": "2024-06-02T03:25:11.434875Z",
          "shell.execute_reply.started": "2024-06-02T03:25:11.406769Z",
          "shell.execute_reply": "2024-06-02T03:25:11.433981Z"
        },
        "trusted": true,
        "colab": {
          "base_uri": "https://localhost:8080/"
        },
        "id": "OlZ9AeHUFM_P",
        "outputId": "9d46f5cf-2434-43fe-fbf3-f306dace3422"
      },
      "execution_count": 18,
      "outputs": [
        {
          "output_type": "stream",
          "name": "stdout",
          "text": [
            "Model: \"sequential\"\n",
            "_________________________________________________________________\n",
            " Layer (type)                Output Shape              Param #   \n",
            "=================================================================\n",
            " conv2d (Conv2D)             (None, 56, 56, 96)        34944     \n",
            "                                                                 \n",
            " max_pooling2d (MaxPooling2  (None, 27, 27, 96)        0         \n",
            " D)                                                              \n",
            "                                                                 \n",
            " conv2d_1 (Conv2D)           (None, 27, 27, 256)       614656    \n",
            "                                                                 \n",
            " max_pooling2d_1 (MaxPoolin  (None, 13, 13, 256)       0         \n",
            " g2D)                                                            \n",
            "                                                                 \n",
            " conv2d_2 (Conv2D)           (None, 13, 13, 384)       885120    \n",
            "                                                                 \n",
            " conv2d_3 (Conv2D)           (None, 13, 13, 384)       1327488   \n",
            "                                                                 \n",
            " conv2d_4 (Conv2D)           (None, 13, 13, 256)       884992    \n",
            "                                                                 \n",
            " max_pooling2d_2 (MaxPoolin  (None, 6, 6, 256)         0         \n",
            " g2D)                                                            \n",
            "                                                                 \n",
            " flatten (Flatten)           (None, 9216)              0         \n",
            "                                                                 \n",
            " dense (Dense)               (None, 4096)              37752832  \n",
            "                                                                 \n",
            " dropout (Dropout)           (None, 4096)              0         \n",
            "                                                                 \n",
            " dense_1 (Dense)             (None, 4096)              16781312  \n",
            "                                                                 \n",
            " dropout_1 (Dropout)         (None, 4096)              0         \n",
            "                                                                 \n",
            " dense_2 (Dense)             (None, 29)                118813    \n",
            "                                                                 \n",
            "=================================================================\n",
            "Total params: 58400157 (222.78 MB)\n",
            "Trainable params: 58400157 (222.78 MB)\n",
            "Non-trainable params: 0 (0.00 Byte)\n",
            "_________________________________________________________________\n"
          ]
        }
      ]
    },
    {
      "cell_type": "code",
      "source": [
        "class myCallback(tf.keras.callbacks.Callback):\n",
        "  def on_epoch_end(self, epoch, logs={}):\n",
        "    if(logs.get('accuracy') > 0.95) and (logs.get('val_accuracy') > 0.9):\n",
        "      print(\"\\nAkurasi telah mencapai > 95%!\")\n",
        "      self.model.stop_training = True\n",
        "\n",
        "callbacks = myCallback()"
      ],
      "metadata": {
        "ExecuteTime": {
          "end_time": "2024-05-22T14:05:48.021211Z",
          "start_time": "2024-05-22T14:05:48.004800Z"
        },
        "execution": {
          "iopub.status.busy": "2024-06-02T03:25:14.921726Z",
          "iopub.execute_input": "2024-06-02T03:25:14.922142Z",
          "iopub.status.idle": "2024-06-02T03:25:14.927946Z",
          "shell.execute_reply.started": "2024-06-02T03:25:14.922110Z",
          "shell.execute_reply": "2024-06-02T03:25:14.927021Z"
        },
        "trusted": true,
        "id": "zvm7ksRCFM_Q"
      },
      "execution_count": 19,
      "outputs": []
    },
    {
      "cell_type": "code",
      "source": [
        "history = model.fit(\n",
        "  train_plant_generator,\n",
        "  epochs=10,\n",
        "  validation_data=validation_plant_generator,\n",
        "  verbose=1,\n",
        "  callbacks=[callbacks]\n",
        ")"
      ],
      "metadata": {
        "ExecuteTime": {
          "end_time": "2024-05-22T14:54:53.691123Z",
          "start_time": "2024-05-22T14:13:51.555911Z"
        },
        "execution": {
          "iopub.status.busy": "2024-06-02T03:25:17.538876Z",
          "iopub.execute_input": "2024-06-02T03:25:17.539285Z",
          "iopub.status.idle": "2024-06-02T03:43:18.813749Z",
          "shell.execute_reply.started": "2024-06-02T03:25:17.539252Z",
          "shell.execute_reply": "2024-06-02T03:43:18.812843Z"
        },
        "trusted": true,
        "colab": {
          "base_uri": "https://localhost:8080/"
        },
        "id": "FEEBb_gCFM_Q",
        "outputId": "c05aefc4-067e-4efa-d520-c94018b7ee5d"
      },
      "execution_count": 20,
      "outputs": [
        {
          "output_type": "stream",
          "name": "stdout",
          "text": [
            "Epoch 1/10\n",
            "261/261 [==============================] - 106s 378ms/step - loss: 3.3180 - accuracy: 0.0511 - val_loss: 3.2382 - val_accuracy: 0.0723\n",
            "Epoch 2/10\n",
            "261/261 [==============================] - 97s 370ms/step - loss: 3.0580 - accuracy: 0.1292 - val_loss: 2.8466 - val_accuracy: 0.1897\n",
            "Epoch 3/10\n",
            "261/261 [==============================] - 95s 366ms/step - loss: 2.4870 - accuracy: 0.2744 - val_loss: 1.9925 - val_accuracy: 0.4277\n",
            "Epoch 4/10\n",
            "261/261 [==============================] - 96s 368ms/step - loss: 1.7207 - accuracy: 0.4860 - val_loss: 0.9809 - val_accuracy: 0.7203\n",
            "Epoch 5/10\n",
            "261/261 [==============================] - 96s 369ms/step - loss: 0.9658 - accuracy: 0.7112 - val_loss: 0.3702 - val_accuracy: 0.8946\n",
            "Epoch 6/10\n",
            "261/261 [==============================] - 97s 370ms/step - loss: 0.4878 - accuracy: 0.8495 - val_loss: 0.1813 - val_accuracy: 0.9473\n",
            "Epoch 7/10\n",
            "261/261 [==============================] - 95s 364ms/step - loss: 0.2938 - accuracy: 0.9113 - val_loss: 0.0618 - val_accuracy: 0.9852\n",
            "Epoch 8/10\n",
            "261/261 [==============================] - 96s 368ms/step - loss: 0.1849 - accuracy: 0.9438 - val_loss: 0.0761 - val_accuracy: 0.9799\n",
            "Epoch 9/10\n",
            "261/261 [==============================] - ETA: 0s - loss: 0.1318 - accuracy: 0.9635\n",
            "Akurasi telah mencapai > 95%!\n",
            "261/261 [==============================] - 96s 368ms/step - loss: 0.1318 - accuracy: 0.9635 - val_loss: 0.0369 - val_accuracy: 0.9928\n"
          ]
        }
      ]
    },
    {
      "cell_type": "code",
      "source": [
        "plt.plot(history.history['accuracy'], label='Training')\n",
        "plt.plot(history.history['val_accuracy'], label='Testing')\n",
        "plt.title('Model Accuracy')\n",
        "plt.ylabel('Accuracy')\n",
        "plt.xlabel('Epoch')\n",
        "plt.legend(loc='lower right')\n",
        "plt.show()"
      ],
      "metadata": {
        "execution": {
          "iopub.status.busy": "2024-06-02T03:43:39.984873Z",
          "iopub.execute_input": "2024-06-02T03:43:39.985752Z",
          "iopub.status.idle": "2024-06-02T03:43:40.311408Z",
          "shell.execute_reply.started": "2024-06-02T03:43:39.985709Z",
          "shell.execute_reply": "2024-06-02T03:43:40.310049Z"
        },
        "trusted": true,
        "colab": {
          "base_uri": "https://localhost:8080/",
          "height": 472
        },
        "id": "0O9RHo8ZFM_R",
        "outputId": "131719a6-f0bd-4f71-8391-d51889a6da92"
      },
      "execution_count": 21,
      "outputs": [
        {
          "output_type": "display_data",
          "data": {
            "text/plain": [
              "<Figure size 640x480 with 1 Axes>"
            ],
            "image/png": "[encoded data removed]"
          },
          "metadata": {}
        }
      ]
    },
    {
      "cell_type": "code",
      "source": [
        "plt.plot(history.history['loss'], label='Training')\n",
        "plt.plot(history.history['val_loss'], label='Testing')\n",
        "plt.title('Model Loss')\n",
        "plt.ylabel('Loss')\n",
        "plt.xlabel('Epoch')\n",
        "plt.legend(loc='upper right')\n",
        "plt.show()"
      ],
      "metadata": {
        "execution": {
          "iopub.status.busy": "2024-06-02T03:43:43.899733Z",
          "iopub.execute_input": "2024-06-02T03:43:43.900150Z",
          "iopub.status.idle": "2024-06-02T03:43:44.218984Z",
          "shell.execute_reply.started": "2024-06-02T03:43:43.900116Z",
          "shell.execute_reply": "2024-06-02T03:43:44.218094Z"
        },
        "trusted": true,
        "colab": {
          "base_uri": "https://localhost:8080/",
          "height": 472
        },
        "id": "XOfdx_hmFM_R",
        "outputId": "98d70259-bcd3-419f-db7a-c37c7e3434e0"
      },
      "execution_count": 22,
      "outputs": [
        {
          "output_type": "display_data",
          "data": {
            "text/plain": [
              "<Figure size 640x480 with 1 Axes>"
            ],
            "image/png": "[encoded data removed]"
          },
          "metadata": {}
        }
      ]
    },
    {
      "cell_type": "code",
      "source": [
        "model.evaluate(validation_plant_generator, verbose=1)"
      ],
      "metadata": {
        "execution": {
          "iopub.status.busy": "2024-06-02T03:43:50.824045Z",
          "iopub.execute_input": "2024-06-02T03:43:50.824435Z",
          "iopub.status.idle": "2024-06-02T03:43:55.403233Z",
          "shell.execute_reply.started": "2024-06-02T03:43:50.824404Z",
          "shell.execute_reply": "2024-06-02T03:43:55.402338Z"
        },
        "trusted": true,
        "colab": {
          "base_uri": "https://localhost:8080/"
        },
        "id": "3-RyBKV3FM_S",
        "outputId": "af2e6e97-2c1d-46af-d20c-30506191eec8"
      },
      "execution_count": 23,
      "outputs": [
        {
          "output_type": "stream",
          "name": "stdout",
          "text": [
            "66/66 [==============================] - 4s 64ms/step - loss: 0.0369 - accuracy: 0.9928\n"
          ]
        },
        {
          "output_type": "execute_result",
          "data": {
            "text/plain": [
              "[0.03692539408802986, 0.9928160905838013]"
            ]
          },
          "metadata": {},
          "execution_count": 23
        }
      ]
    },
    {
      "cell_type": "code",
      "source": [
        "model.save('/content/models/model_botanify.h5')"
      ],
      "metadata": {
        "execution": {
          "iopub.status.busy": "2024-06-02T03:43:59.798009Z",
          "iopub.execute_input": "2024-06-02T03:43:59.798374Z",
          "iopub.status.idle": "2024-06-02T03:44:03.501420Z",
          "shell.execute_reply.started": "2024-06-02T03:43:59.798344Z",
          "shell.execute_reply": "2024-06-02T03:44:03.500234Z"
        },
        "trusted": true,
        "colab": {
          "base_uri": "https://localhost:8080/"
        },
        "id": "IBBEQvjfFM_T",
        "outputId": "bcd7d1fc-e8f7-428c-d5b3-c3fdaa073540"
      },
      "execution_count": 24,
      "outputs": [
        {
          "output_type": "stream",
          "name": "stderr",
          "text": [
            "/usr/local/lib/python3.10/dist-packages/keras/src/engine/training.py:3103: UserWarning: You are saving your model as an HDF5 file via `model.save()`. This file format is considered legacy. We recommend using instead the native Keras format, e.g. `model.save('my_model.keras')`.\n",
            "  saving_api.save_model(\n"
          ]
        }
      ]
    },
    {
      "cell_type": "code",
      "source": [
        "import pathlib\n",
        "export_dir = '/content/models/saved_model/'\n",
        "tf.saved_model.save(model, export_dir)\n",
        "\n",
        "# Convert SavedModel menjadi vegs.tflite\n",
        "converter = tf.lite.TFLiteConverter.from_saved_model(export_dir)\n",
        "tflite_model = converter.convert()\n",
        "\n",
        "tflite_model_file = pathlib.Path('botanify.tflite')\n",
        "tflite_model_file.write_bytes(tflite_model)"
      ],
      "metadata": {
        "execution": {
          "iopub.status.busy": "2024-06-02T03:51:37.283271Z",
          "iopub.execute_input": "2024-06-02T03:51:37.283915Z"
        },
        "trusted": true,
        "colab": {
          "base_uri": "https://localhost:8080/"
        },
        "id": "Ecsr5bhGFM_T",
        "outputId": "bc2100be-5721-4590-beaa-211069b70abd"
      },
      "execution_count": 29,
      "outputs": [
        {
          "output_type": "execute_result",
          "data": {
            "text/plain": [
              "233606116"
            ]
          },
          "metadata": {},
          "execution_count": 29
        }
      ]
    }
  ]
}